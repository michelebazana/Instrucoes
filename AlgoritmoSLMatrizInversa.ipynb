{
  "nbformat": 4,
  "nbformat_minor": 0,
  "metadata": {
    "colab": {
      "provenance": [],
      "authorship_tag": "ABX9TyNK4E0idBiz8XazPtxvmVom",
      "include_colab_link": true
    },
    "kernelspec": {
      "name": "python3",
      "display_name": "Python 3"
    },
    "language_info": {
      "name": "python"
    }
  },
  "cells": [
    {
      "cell_type": "markdown",
      "metadata": {
        "id": "view-in-github",
        "colab_type": "text"
      },
      "source": [
        "<a href=\"https://colab.research.google.com/github/michelebazana/Instrucoes-Matematica/blob/main/AlgoritmoSLMatrizInversa.ipynb\" target=\"_parent\"><img src=\"https://colab.research.google.com/assets/colab-badge.svg\" alt=\"Open In Colab\"/></a>"
      ]
    },
    {
      "cell_type": "code",
      "execution_count": 8,
      "metadata": {
        "id": "1_pA4qK61RZe"
      },
      "outputs": [],
      "source": [
        "import numpy as np"
      ]
    },
    {
      "cell_type": "code",
      "source": [
        "# Matrizes\n",
        "A = np.array([[1,1,1],[1,-1,2],[1,2,-1]])\n",
        "b = np.array([[4],[-1],[8]])"
      ],
      "metadata": {
        "id": "iU22TJpW1ZOO"
      },
      "execution_count": 9,
      "outputs": []
    },
    {
      "cell_type": "code",
      "source": [
        "# Determinante da matriz A\n",
        "det = np.linalg.det(A)\n",
        "print(f\"Det = {det:.4f}\")"
      ],
      "metadata": {
        "colab": {
          "base_uri": "https://localhost:8080/"
        },
        "id": "Li5T4pvM2dj9",
        "outputId": "dc005e1a-0692-4fc5-e48b-5506dfe5b0f4"
      },
      "execution_count": 10,
      "outputs": [
        {
          "output_type": "stream",
          "name": "stdout",
          "text": [
            "Det = 3.0000\n"
          ]
        }
      ]
    },
    {
      "cell_type": "code",
      "source": [
        "# Resolução do Sistema Linear utilizando a matriz inversa\n",
        "# x = Aˆ-1 b\n",
        "x = np.linalg.inv(A) @ b\n",
        "print(x)"
      ],
      "metadata": {
        "colab": {
          "base_uri": "https://localhost:8080/"
        },
        "id": "2jufGgKP1cuP",
        "outputId": "66b4b32a-c8d0-4119-ca8c-c0ebe3e817fd"
      },
      "execution_count": 11,
      "outputs": [
        {
          "output_type": "stream",
          "name": "stdout",
          "text": [
            "[[ 3.]\n",
            " [ 2.]\n",
            " [-1.]]\n"
          ]
        }
      ]
    }
  ]
}