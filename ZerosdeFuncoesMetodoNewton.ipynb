{
  "nbformat": 4,
  "nbformat_minor": 0,
  "metadata": {
    "colab": {
      "provenance": [],
      "authorship_tag": "ABX9TyOE7w+lh00brzE0fh7xv6Fv",
      "include_colab_link": true
    },
    "kernelspec": {
      "name": "python3",
      "display_name": "Python 3"
    },
    "language_info": {
      "name": "python"
    }
  },
  "cells": [
    {
      "cell_type": "markdown",
      "metadata": {
        "id": "view-in-github",
        "colab_type": "text"
      },
      "source": [
        "<a href=\"https://colab.research.google.com/github/michelebazana/Instrucoes-Matematica/blob/main/ZerosdeFuncoesMetodoNewton.ipynb\" target=\"_parent\"><img src=\"https://colab.research.google.com/assets/colab-badge.svg\" alt=\"Open In Colab\"/></a>"
      ]
    },
    {
      "cell_type": "code",
      "execution_count": 32,
      "metadata": {
        "id": "pMuo_X-5Qnxs"
      },
      "outputs": [],
      "source": [
        "# Exemplo passo a passo para encontrar o zero da função utilizando o Método de Newton\n",
        "# x(k+1) = x(k) - f(xk)/f'(xk)\n",
        "# erel = |[x(k+1) - x(k)] / x(k+1)|"
      ]
    },
    {
      "cell_type": "code",
      "source": [
        "# Bibliotecas\n",
        "import numpy as np\n",
        "import matplotlib.pyplot as plt"
      ],
      "metadata": {
        "id": "SYx8_GX8SNis"
      },
      "execution_count": 8,
      "outputs": []
    },
    {
      "cell_type": "code",
      "source": [
        "# Exercício 3.13 do autoestudo\n",
        "\n",
        "# Definindo a função polinomial f(x) = xˆ3 + 2x -5\n",
        "y = np.poly1d([1, 0, -2, -5])\n",
        "print(\"f(x)=\")\n",
        "print(y)"
      ],
      "metadata": {
        "colab": {
          "base_uri": "https://localhost:8080/"
        },
        "id": "oD6ewfCbSi5e",
        "outputId": "41c36515-d9ea-435a-f174-60f718bfc814"
      },
      "execution_count": 9,
      "outputs": [
        {
          "output_type": "stream",
          "name": "stdout",
          "text": [
            "f(x)=\n",
            "   3\n",
            "1 x - 2 x - 5\n"
          ]
        }
      ]
    },
    {
      "cell_type": "code",
      "source": [
        "# Criando o gráfico da função\n",
        "x_vals = np.linspace(-3,3, num=100)\n",
        "plt.plot(x_vals, y(x_vals))\n",
        "plt.title('Gráfico da Função Polinomial')\n",
        "plt.xlabel('x')\n",
        "plt.ylabel('f(x)')\n",
        "plt.grid(True)\n",
        "plt.xlim(-3, 3)\n",
        "plt.ylim(-30, 20)\n",
        "plt.show()"
      ],
      "metadata": {
        "colab": {
          "base_uri": "https://localhost:8080/",
          "height": 472
        },
        "id": "GZ_mH7SsyrHE",
        "outputId": "ebe53a4f-3b92-44f6-b19d-fcec8fd14839"
      },
      "execution_count": 31,
      "outputs": [
        {
          "output_type": "display_data",
          "data": {
            "text/plain": [
              "<Figure size 640x480 with 1 Axes>"
            ],
            "image/png": "[encoded data removed]"
          },
          "metadata": {}
        }
      ]
    },
    {
      "cell_type": "code",
      "source": [
        "# calculando a derivada\n",
        "derivada = y.deriv()\n",
        "print(\"f'(x)=\")\n",
        "print(derivada)"
      ],
      "metadata": {
        "colab": {
          "base_uri": "https://localhost:8080/"
        },
        "id": "1FUqVCwnT71V",
        "outputId": "bf661e00-46ab-4325-b012-61bdbad7af55"
      },
      "execution_count": 11,
      "outputs": [
        {
          "output_type": "stream",
          "name": "stdout",
          "text": [
            "f'(x)=\n",
            "   2\n",
            "3 x - 2\n"
          ]
        }
      ]
    },
    {
      "cell_type": "code",
      "source": [
        "# primeira iteração\n",
        "x1 = 2.5\n",
        "print(f\"x1={x1:.4f}\")\n",
        "print(f\"f(x1)={y(x1):.4f}\")\n",
        "print(f\"f'(x1)={derivada(x1):.4f}\")"
      ],
      "metadata": {
        "colab": {
          "base_uri": "https://localhost:8080/"
        },
        "id": "gof52sEAWI_X",
        "outputId": "b31fdd9e-04a0-42c1-cf63-1c7498aba6d8"
      },
      "execution_count": 13,
      "outputs": [
        {
          "output_type": "stream",
          "name": "stdout",
          "text": [
            "x1=2.5000\n",
            "f(x1)=5.6250\n",
            "f'(x1)=16.7500\n"
          ]
        }
      ]
    },
    {
      "cell_type": "code",
      "source": [
        "# segunda iteração\n",
        "x2 = x1 - y(x1)/derivada(x1)\n",
        "print(f\"x2={x2:.4f}\")\n",
        "print(f\"f(x2)={y(x2):.4f}\")\n",
        "print(f\"f'(x2)={derivada(x2):.4f}\")\n",
        "print(f\"erel={(abs(x2-x1)/x2):.4f}\")"
      ],
      "metadata": {
        "colab": {
          "base_uri": "https://localhost:8080/"
        },
        "id": "zzN7ZRIQWdYe",
        "outputId": "0ae6a308-0fb5-405a-f25b-8775daf2c4bc"
      },
      "execution_count": 19,
      "outputs": [
        {
          "output_type": "stream",
          "name": "stdout",
          "text": [
            "x2=2.1642\n",
            "f(x2)=0.8079\n",
            "f'(x2)=12.0510\n",
            "erel=0.1552\n"
          ]
        }
      ]
    },
    {
      "cell_type": "code",
      "source": [
        "# terceira iteração\n",
        "x3 = x2 - y(x2)/derivada(x2)\n",
        "print(f\"x3={x3:.4f}\")\n",
        "print(f\"f(x3)={y(x3):.4f}\")\n",
        "print(f\"f'(x3)={derivada(x3):.4f}\")\n",
        "print(f\"erel={(abs(x3-x2)/x3):.4f}\")"
      ],
      "metadata": {
        "colab": {
          "base_uri": "https://localhost:8080/"
        },
        "id": "uP9RKCskY7oA",
        "outputId": "a7a43117-a346-4d32-e8be-b8f84304a5fd"
      },
      "execution_count": 20,
      "outputs": [
        {
          "output_type": "stream",
          "name": "stdout",
          "text": [
            "x3=2.0971\n",
            "f(x3)=0.0289\n",
            "f'(x3)=11.1939\n",
            "erel=0.0320\n"
          ]
        }
      ]
    },
    {
      "cell_type": "code",
      "source": [
        "# quarta iteração\n",
        "x4 = x3 - y(x3)/derivada(x3)\n",
        "print(f\"x4={x4:.4f}\")\n",
        "print(f\"f(x4)={y(x4):.4f}\")\n",
        "print(f\"f'(x4)={derivada(x4):.4f}\")\n",
        "print(f\"erel={(abs(x4-x3)/x4):.4f}\")"
      ],
      "metadata": {
        "colab": {
          "base_uri": "https://localhost:8080/"
        },
        "id": "PB18bGUrZWcI",
        "outputId": "7d7b7dc6-7469-476a-f09f-669901a8d2c4"
      },
      "execution_count": 21,
      "outputs": [
        {
          "output_type": "stream",
          "name": "stdout",
          "text": [
            "x4=2.0946\n",
            "f(x4)=0.0000\n",
            "f'(x4)=11.1615\n",
            "erel=0.0012\n"
          ]
        }
      ]
    }
  ]
}