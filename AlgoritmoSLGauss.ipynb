{
  "nbformat": 4,
  "nbformat_minor": 0,
  "metadata": {
    "colab": {
      "provenance": [],
      "authorship_tag": "ABX9TyNzvvyhsrgfhGwNfgzb50UZ",
      "include_colab_link": true
    },
    "kernelspec": {
      "name": "python3",
      "display_name": "Python 3"
    },
    "language_info": {
      "name": "python"
    }
  },
  "cells": [
    {
      "cell_type": "markdown",
      "metadata": {
        "id": "view-in-github",
        "colab_type": "text"
      },
      "source": [
        "<a href=\"https://colab.research.google.com/github/michelebazana/Instrucoes/blob/main/AlgoritmoSLGauss.ipynb\" target=\"_parent\"><img src=\"https://colab.research.google.com/assets/colab-badge.svg\" alt=\"Open In Colab\"/></a>"
      ]
    },
    {
      "cell_type": "code",
      "source": [
        "import numpy as np"
      ],
      "metadata": {
        "id": "6c_70pmpemFZ"
      },
      "execution_count": 32,
      "outputs": []
    },
    {
      "cell_type": "code",
      "source": [
        "def sistemaTriangularSuperior(U,y):\n",
        "  n, nc = np.shape(U)\n",
        "  x = np.zeros((n,1))\n",
        "  for i in range(n-1,-1,-1):\n",
        "    x[i,0] = (y[i,0] - U[i,i:n]@x[i:n,0])/U[i,i]\n",
        "  return x"
      ],
      "metadata": {
        "id": "v-YQOfQoetN7"
      },
      "execution_count": 33,
      "outputs": []
    },
    {
      "cell_type": "code",
      "execution_count": 34,
      "metadata": {
        "id": "Xc67Q00yUB3M"
      },
      "outputs": [],
      "source": [
        "A = np.array([[4,-2],[2,1]])\n",
        "b = np.array([[8],[0]])\n",
        "\n",
        "Aa = np.concatenate((A,b),1)\n",
        "\n",
        "#coluna j = 0 (primeira coluna)\n",
        "j = 0\n",
        "pivo = A[j,j]\n",
        "\n",
        "#linha i = 1 (segunda linha)\n",
        "i = 1\n",
        "fator = Aa[i,j] / pivo\n",
        "Aa[i,0:] = Aa[i,0:] - fator*Aa[j,0:]\n",
        "\n",
        "U = Aa[0:, 0:2]\n",
        "y = Aa[0:,2:]\n",
        "x = sistemaTriangularSuperior(U,y)"
      ]
    },
    {
      "cell_type": "code",
      "source": [
        "print(Aa)\n",
        "print(U)\n",
        "print(y)\n",
        "print(x)"
      ],
      "metadata": {
        "colab": {
          "base_uri": "https://localhost:8080/"
        },
        "id": "gwPyIv7XcdSS",
        "outputId": "3b2598ac-94a1-4c58-b127-4c186a52a1ba"
      },
      "execution_count": 35,
      "outputs": [
        {
          "output_type": "stream",
          "name": "stdout",
          "text": [
            "[[ 4 -2  8]\n",
            " [ 0  2 -4]]\n",
            "[[ 4 -2]\n",
            " [ 0  2]]\n",
            "[[ 8]\n",
            " [-4]]\n",
            "[[ 1.]\n",
            " [-2.]]\n"
          ]
        }
      ]
    },
    {
      "cell_type": "code",
      "source": [
        "print(A@x)\n",
        "# A vezes x precisa ser igual a b"
      ],
      "metadata": {
        "colab": {
          "base_uri": "https://localhost:8080/"
        },
        "id": "e4HdE4PqfgJk",
        "outputId": "f715028a-d955-4f4d-be03-960e1446d3e0"
      },
      "execution_count": 36,
      "outputs": [
        {
          "output_type": "stream",
          "name": "stdout",
          "text": [
            "[[8.]\n",
            " [0.]]\n"
          ]
        }
      ]
    },
    {
      "cell_type": "code",
      "source": [
        "def eliminacaoGaussSistematizada(A,b):\n",
        "  n,_ = np.shape(A)\n",
        "  Aa = np.concatenate((A,b),1)\n",
        "\n",
        "  for j in range(n-1):\n",
        "    pivo = A[j,j]\n",
        "    for i in range(j+1,n):\n",
        "      fator = Aa[i,j] / pivo\n",
        "      Aa[i,0:] = Aa[i,0:] - fator*Aa[j,0:]\n",
        "\n",
        "  U = Aa[0:, 0:n]\n",
        "  y = Aa[0:,n:]\n",
        "  x = sistemaTriangularSuperior(U,y)\n",
        "  return x"
      ],
      "metadata": {
        "id": "We2WIzYDgGl6"
      },
      "execution_count": 39,
      "outputs": []
    },
    {
      "cell_type": "code",
      "source": [
        "x = eliminacaoGaussSistematizada(A,b)\n",
        "print(x)"
      ],
      "metadata": {
        "colab": {
          "base_uri": "https://localhost:8080/"
        },
        "id": "GmM9xOzLiOcc",
        "outputId": "69d81042-df16-471b-f70a-8df548a7bba5"
      },
      "execution_count": 43,
      "outputs": [
        {
          "output_type": "stream",
          "name": "stdout",
          "text": [
            "[[ 1.]\n",
            " [-2.]]\n"
          ]
        }
      ]
    }
  ]
}