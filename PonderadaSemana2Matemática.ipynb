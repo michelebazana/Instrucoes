{
  "nbformat": 4,
  "nbformat_minor": 0,
  "metadata": {
    "colab": {
      "provenance": [],
      "authorship_tag": "ABX9TyMZzelwWEvzy2LDeyHud00Z",
      "include_colab_link": true
    },
    "kernelspec": {
      "name": "python3",
      "display_name": "Python 3"
    },
    "language_info": {
      "name": "python"
    }
  },
  "cells": [
    {
      "cell_type": "markdown",
      "metadata": {
        "id": "view-in-github",
        "colab_type": "text"
      },
      "source": [
        "<a href=\"https://colab.research.google.com/github/michelebazana/Instrucoes-Matematica/blob/main/PonderadaSemana2Matem%C3%A1tica.ipynb\" target=\"_parent\"><img src=\"https://colab.research.google.com/assets/colab-badge.svg\" alt=\"Open In Colab\"/></a>"
      ]
    },
    {
      "cell_type": "code",
      "source": [
        "import math"
      ],
      "metadata": {
        "id": "W7hnkgtakvWd"
      },
      "execution_count": null,
      "outputs": []
    },
    {
      "cell_type": "code",
      "source": [
        "x1 = 0.5  # Ponto de partida\n",
        "max_iterations = 4  # Número máximo de iterações\n",
        "\n",
        "x = x1\n",
        "print(\" k |   x_k    |   f(x_k)  |  f'(x_k) | Erro Relativo\")\n",
        "print(\"-\" * 53)\n",
        "\n",
        "for iteration in range(max_iterations):\n",
        "\n",
        "    if iteration == 0:\n",
        "        x_new = x1\n",
        "        fx = x - math.cos(x)**2\n",
        "        fx_derivative = 1 + 2 * math.cos(x) * math.sin(x)\n",
        "        print(f\"{iteration+1:2d} |{x_new:.6f}  | {fx:.6f} | {fx_derivative:.6f} |    -   \")\n",
        "    else:\n",
        "        x_new = x - fx / fx_derivative\n",
        "        fx = x_new - math.cos(x_new)**2\n",
        "        fx_derivative = 1 + 2 * math.cos(x_new) * math.sin(x_new)\n",
        "        relative_error = abs((x_new - x) / x_new)\n",
        "        print(f\"{iteration+1:2d} |{x_new:.6f}  | {fx:.6f}  | {fx_derivative:.6f} | {relative_error:.6f}\")\n",
        "\n",
        "    x = x_new"
      ],
      "metadata": {
        "colab": {
          "base_uri": "https://localhost:8080/"
        },
        "id": "sIgE2enWWQ1C",
        "outputId": "f9affe88-7c3e-42bf-c8c8-726542d964e5"
      },
      "execution_count": 73,
      "outputs": [
        {
          "output_type": "stream",
          "name": "stdout",
          "text": [
            " k |   x_k    |   f(x_k)  |  f'(x_k) | Erro Relativo\n",
            "-----------------------------------------------------\n",
            " 1 |0.500000  | -0.270151 | 1.841471 |    -   \n",
            " 2 |0.646704  | 0.009782  | 1.961774 | 0.226849\n",
            " 3 |0.641718  | 0.000007  | 1.958995 | 0.007770\n",
            " 4 |0.641714  | 0.000000  | 1.958993 | 0.000005\n"
          ]
        }
      ]
    }
  ]
}